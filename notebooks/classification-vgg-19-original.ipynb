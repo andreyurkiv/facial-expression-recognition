{
 "cells": [
  {
   "cell_type": "code",
   "execution_count": 2,
   "metadata": {},
   "outputs": [
    {
     "name": "stdout",
     "output_type": "stream",
     "text": [
      "Collecting keras\n",
      "  Using cached https://files.pythonhosted.org/packages/5e/10/aa32dad071ce52b5502266b5c659451cfd6ffcbf14e6c8c4f16c0ff5aaab/Keras-2.2.4-py2.py3-none-any.whl\n",
      "Requirement already satisfied: six>=1.9.0 in /usr/local/envs/py3env/lib/python3.5/site-packages (from keras) (1.10.0)\n",
      "Requirement already satisfied: numpy>=1.9.1 in /usr/local/envs/py3env/lib/python3.5/site-packages (from keras) (1.14.0)\n",
      "Collecting keras-preprocessing>=1.0.5 (from keras)\n",
      "  Using cached https://files.pythonhosted.org/packages/c0/bf/0315ef6a9fd3fc2346e85b0ff1f5f83ca17073f2c31ac719ab2e4da0d4a3/Keras_Preprocessing-1.0.9-py2.py3-none-any.whl\n",
      "Requirement already satisfied: scipy>=0.14 in /usr/local/envs/py3env/lib/python3.5/site-packages (from keras) (1.0.0)\n",
      "Collecting keras-applications>=1.0.6 (from keras)\n",
      "  Using cached https://files.pythonhosted.org/packages/90/85/64c82949765cfb246bbdaf5aca2d55f400f792655927a017710a78445def/Keras_Applications-1.0.7-py2.py3-none-any.whl\n",
      "Requirement already satisfied: pyyaml in /usr/local/envs/py3env/lib/python3.5/site-packages (from keras) (3.13)\n",
      "Requirement already satisfied: h5py in /usr/local/envs/py3env/lib/python3.5/site-packages (from keras) (2.9.0)\n",
      "Installing collected packages: keras-preprocessing, keras-applications, keras\n",
      "Successfully installed keras-2.2.4 keras-applications-1.0.7 keras-preprocessing-1.0.9\n"
     ]
    }
   ],
   "source": [
    "!pip install keras"
   ]
  },
  {
   "cell_type": "code",
   "execution_count": 3,
   "metadata": {},
   "outputs": [
    {
     "name": "stderr",
     "output_type": "stream",
     "text": [
      "Using TensorFlow backend.\n"
     ]
    }
   ],
   "source": [
    "import pandas as pd\n",
    "import numpy as np\n",
    "\n",
    "from scipy import stats\n",
    "\n",
    "import matplotlib.pyplot as plt\n",
    "\n",
    "from keras.models import model_from_json\n",
    "\n",
    "from keras.metrics import categorical_accuracy\n",
    "\n",
    "import keras\n",
    "\n",
    "import random\n",
    "\n",
    "%matplotlib inline"
   ]
  },
  {
   "cell_type": "markdown",
   "metadata": {},
   "source": [
    "### Helper functions"
   ]
  },
  {
   "cell_type": "code",
   "execution_count": 4,
   "metadata": {},
   "outputs": [],
   "source": [
    "def load_data(dataset: str, channels: int = 1):\n",
    "  \n",
    "    df = pd.read_csv(dataset)\n",
    "  \n",
    "    df['category'] = df['category'].str.strip()\n",
    "\n",
    "    train = df.loc[df.category == 'Training',:]\n",
    "    valid = df.loc[df.category == 'PublicTest',:]\n",
    "    test  = df.loc[df.category == 'PrivateTest',:]\n",
    "\n",
    "    del train['Unnamed: 0']\n",
    "    del valid['Unnamed: 0']\n",
    "    del test['Unnamed: 0']\n",
    "\n",
    "    X_train = np.array(train.iloc[:, 1:2305])\n",
    "    y_train = np.array(train.loc[:, ['y']])\n",
    "\n",
    "    X_val = np.array(valid.iloc[:, 1:2305])\n",
    "    y_val = np.array(valid.loc[:, ['y']])\n",
    "\n",
    "    X_test = np.array(test.iloc[:, 1:2305])\n",
    "    y_test = np.array(test.loc[:, ['y']])\n",
    "\n",
    "    del train\n",
    "    del valid\n",
    "    del test\n",
    "\n",
    "    y_train = keras.utils.to_categorical(y_train, 7)\n",
    "    y_val = keras.utils.to_categorical(y_val, 7)\n",
    "    y_test = keras.utils.to_categorical(y_test, 7)\n",
    "\n",
    "    X_train_r = X_train.reshape((len(X_train), 48, 48))\n",
    "    X_val_r   = X_val.reshape((len(X_val), 48, 48))\n",
    "    X_test_r   = X_test.reshape((len(X_test), 48, 48))\n",
    "\n",
    "    X_train_r = X_train_r / 255\n",
    "    X_val_r = X_val_r / 255\n",
    "    X_test_r = X_test_r / 255\n",
    "\n",
    "    if channels == 1:\n",
    "        X_train_bw = X_train_r.reshape((len(X_train_r), 48, 48, 1))\n",
    "        X_val_bw = X_val_r.reshape((len(X_val_r), 48, 48, 1))\n",
    "        X_test_bw = X_test_r.reshape((len(X_test_r), 48, 48, 1))\n",
    "        return (X_train_bw, X_val_bw, X_test_bw, y_train, y_val, y_test)\n",
    "    elif channels == 3:\n",
    "        X_train_rgb = np.stack((X_train_r,) * 3, axis = -1)\n",
    "        X_val_rgb = np.stack((X_val_r, ) * 3, axis = -1)\n",
    "        X_test_rgb = np.stack((X_test_r, ) * 3, axis = -1)\n",
    "        return (X_train_rgb, X_val_rgb, X_test_rgb, y_train, y_val, y_test)\n",
    "    else:\n",
    "        return None"
   ]
  },
  {
   "cell_type": "code",
   "execution_count": 5,
   "metadata": {},
   "outputs": [],
   "source": [
    "import itertools\n",
    "\n",
    "def plot_confusion_matrix(cm, classes,\n",
    "                          normalize=False,\n",
    "                          title='Confusion matrix',\n",
    "                          cmap=plt.cm.Blues):\n",
    "    \"\"\"\n",
    "    This function prints and plots the confusion matrix.\n",
    "    Normalization can be applied by setting `normalize=True`.\n",
    "    \"\"\"\n",
    "    if normalize:\n",
    "        cm = cm.astype('float') / cm.sum(axis=1)[:, np.newaxis]\n",
    "\n",
    "    plt.imshow(cm, interpolation='nearest', cmap=cmap)\n",
    "    plt.title(title, fontdict = {'fontsize': 20})\n",
    "    plt.colorbar(fraction=0.046, pad=0.04)\n",
    "    tick_marks = np.arange(len(classes))\n",
    "    plt.xticks(tick_marks, classes, rotation=45)\n",
    "    plt.yticks(tick_marks, classes)\n",
    "\n",
    "    fmt = '.2f' if normalize else 'd'\n",
    "    thresh = cm.max() / 2.\n",
    "    for i, j in itertools.product(range(cm.shape[0]), range(cm.shape[1])):\n",
    "        plt.text(j, i, format(cm[i, j], fmt),\n",
    "                 horizontalalignment=\"center\",\n",
    "                 color=\"white\" if cm[i, j] > thresh else \"black\")\n",
    "\n",
    "    plt.ylabel('True label')\n",
    "    plt.xlabel('Predicted label')\n",
    "    plt.tight_layout()"
   ]
  },
  {
   "cell_type": "markdown",
   "metadata": {},
   "source": [
    "### Read data"
   ]
  },
  {
   "cell_type": "code",
   "execution_count": 7,
   "metadata": {},
   "outputs": [],
   "source": [
    "X_train_bw, X_val_bw, X_test_bw, y_train, y_val, y_test = load_data('emotions.csv')"
   ]
  },
  {
   "cell_type": "code",
   "execution_count": 8,
   "metadata": {},
   "outputs": [
    {
     "data": {
      "text/plain": [
       "{0: 3995, 1: 436, 2: 4097, 3: 7215, 4: 4830, 5: 3171, 6: 4965}"
      ]
     },
     "execution_count": 8,
     "metadata": {},
     "output_type": "execute_result"
    }
   ],
   "source": [
    "import collections\n",
    "dict(collections.Counter(np.argmax(y_train, axis = 1)))"
   ]
  },
  {
   "cell_type": "markdown",
   "metadata": {},
   "source": [
    "### Modeling"
   ]
  },
  {
   "cell_type": "code",
   "execution_count": 16,
   "metadata": {},
   "outputs": [],
   "source": [
    "from keras.models import Sequential\n",
    "from keras.optimizers import SGD,Adadelta\n",
    "from keras.layers.core import Flatten, Dense, Dropout\n",
    "from keras.layers.convolutional import Convolution2D, MaxPooling2D, ZeroPadding2D,AveragePooling2D\n",
    "from keras.layers import Dense, Dropout, Activation, Flatten, Conv2D, MaxPooling2D,GlobalAveragePooling2D\n",
    "from keras.layers import Input, Dense, Dropout, Activation, Flatten, BatchNormalization\n",
    "from keras.layers.advanced_activations import PReLU\n",
    "\n",
    "from keras.metrics import categorical_accuracy\n",
    "\n",
    "np.random.seed(100)"
   ]
  },
  {
   "cell_type": "markdown",
   "metadata": {},
   "source": [
    "### VGG-19 Model"
   ]
  },
  {
   "cell_type": "code",
   "execution_count": 17,
   "metadata": {},
   "outputs": [],
   "source": [
    "img_rows, img_cols = 48, 48\n",
    "\n",
    "model = Sequential()\n",
    "\n",
    "model.add(Conv2D(64, (3, 3), name='block1_conv1', activation='relu', padding=\"same\",\n",
    "                        input_shape=(img_rows, img_cols, 1)))\n",
    "model.add(BatchNormalization())\n",
    "model.add(Dropout(0.5))\n",
    "\n",
    "model.add(Conv2D(64, (3, 3), name='block1_conv2', activation='relu', padding=\"same\"))\n",
    "model.add(BatchNormalization())\n",
    "model.add(MaxPooling2D(pool_size=(2, 2), strides=(2, 2), name='block1_pool'))\n",
    "model.add(Dropout(0.5))\n",
    "          \n",
    "model.add(Conv2D(128, (3, 3), name='block2_conv1', activation='relu', padding=\"same\"))\n",
    "model.add(BatchNormalization())\n",
    "model.add(Dropout(0.5))\n",
    "\n",
    "model.add(Conv2D(128, (3, 3), name='block2_conv2', activation='relu', padding=\"same\"))\n",
    "model.add(BatchNormalization())\n",
    "model.add(MaxPooling2D(pool_size=(2, 2), strides=(2, 2), name='block2_pool'))\n",
    "model.add(Dropout(0.5))\n",
    "\n",
    "model.add(Conv2D(256, (3, 3), name='block3_conv1', activation='relu', padding=\"same\"))\n",
    "model.add(Dropout(0.5))\n",
    "\n",
    "model.add(BatchNormalization())\n",
    "model.add(Conv2D(256, (3, 3), name='block3_conv2', activation='relu', padding=\"same\"))\n",
    "model.add(Dropout(0.5))\n",
    "\n",
    "model.add(BatchNormalization())\n",
    "model.add(Conv2D(256, (3, 3), name='block3_conv3', activation='relu', padding=\"same\"))\n",
    "model.add(Dropout(0.5))\n",
    "\n",
    "model.add(BatchNormalization())\n",
    "model.add(Conv2D(256, (3, 3), name='block3_conv4', activation='relu', padding=\"same\"))\n",
    "model.add(Dropout(0.2))\n",
    "\n",
    "model.add(BatchNormalization())\n",
    "model.add(MaxPooling2D(pool_size=(2, 2), strides=(2, 2), name='block3_pool'))\n",
    "model.add(Dropout(0.5))\n",
    "    \n",
    "model.add(Conv2D(512, (3, 3), name='block4_conv1', activation='relu', padding=\"same\"))\n",
    "model.add(Dropout(0.5))\n",
    "\n",
    "model.add(BatchNormalization())\n",
    "model.add(Conv2D(512, (3, 3), name='block4_conv2', activation='relu', padding=\"same\"))\n",
    "model.add(Dropout(0.5))\n",
    "\n",
    "model.add(BatchNormalization())\n",
    "model.add(Conv2D(512, (3, 3), name='block4_conv3', activation='relu', padding=\"same\"))\n",
    "model.add(Dropout(0.5))\n",
    "\n",
    "model.add(BatchNormalization())\n",
    "model.add(Conv2D(512, (3, 3), name='block4_conv4', activation='relu', padding=\"same\"))\n",
    "model.add(MaxPooling2D(pool_size=(2, 2), strides=(2, 2), name='block4_pool'))\n",
    "model.add(Dropout(0.5))\n",
    "\n",
    "model.add(Conv2D(512, (3, 3), name='block5_conv1', activation='relu', padding=\"same\"))\n",
    "model.add(Dropout(0.5))\n",
    "\n",
    "model.add(BatchNormalization())\n",
    "model.add(Conv2D(512, (3, 3), name='block5_conv2', activation='relu', padding=\"same\"))\n",
    "model.add(Dropout(0.5))\n",
    "\n",
    "model.add(BatchNormalization())\n",
    "model.add(Conv2D(512, (3, 3), name='block5_conv3', activation='relu', padding=\"same\"))\n",
    "model.add(Dropout(0.5))\n",
    "\n",
    "model.add(BatchNormalization())\n",
    "model.add(Conv2D(512, (3, 3), name='block5_conv4', activation='relu', padding=\"same\"))\n",
    "model.add(Dropout(0.5))\n",
    "\n",
    "model.add(BatchNormalization())\n",
    "model.add(MaxPooling2D(pool_size=(2, 2), strides=(2, 2), name='block5_pool'))\n",
    "model.add(Dropout(0.5))\n",
    "               \n",
    "#model.add(GlobalAveragePooling2D())\n",
    "\n",
    "model.add(Flatten(name='flatten'))\n",
    "\n",
    "model.add(Dense(4096, activation='relu', name='fc1'))\n",
    "model.add(Dropout(0.5))\n",
    "\n",
    "model.add(Dense(4096, activation='relu', name='fc2'))\n",
    "model.add(Dropout(0.5))\n",
    "\n",
    "model.add(Dense(7, activation='softmax', name='predictions'))\n",
    "\n",
    "# ada = Adadelta(lr=0.1, rho=0.95, epsilon=1e-08)\n",
    "model.compile(loss='categorical_crossentropy',\n",
    "                  optimizer='adam',\n",
    "                  metrics=[categorical_accuracy])\n"
   ]
  },
  {
   "cell_type": "code",
   "execution_count": 18,
   "metadata": {},
   "outputs": [
    {
     "name": "stdout",
     "output_type": "stream",
     "text": [
      "_________________________________________________________________\n",
      "Layer (type)                 Output Shape              Param #   \n",
      "=================================================================\n",
      "block1_conv1 (Conv2D)        (None, 48, 48, 64)        640       \n",
      "_________________________________________________________________\n",
      "batch_normalization_1 (Batch (None, 48, 48, 64)        256       \n",
      "_________________________________________________________________\n",
      "dropout_3 (Dropout)          (None, 48, 48, 64)        0         \n",
      "_________________________________________________________________\n",
      "block1_conv2 (Conv2D)        (None, 48, 48, 64)        36928     \n",
      "_________________________________________________________________\n",
      "batch_normalization_2 (Batch (None, 48, 48, 64)        256       \n",
      "_________________________________________________________________\n",
      "block1_pool (MaxPooling2D)   (None, 24, 24, 64)        0         \n",
      "_________________________________________________________________\n",
      "dropout_4 (Dropout)          (None, 24, 24, 64)        0         \n",
      "_________________________________________________________________\n",
      "block2_conv1 (Conv2D)        (None, 24, 24, 128)       73856     \n",
      "_________________________________________________________________\n",
      "batch_normalization_3 (Batch (None, 24, 24, 128)       512       \n",
      "_________________________________________________________________\n",
      "dropout_5 (Dropout)          (None, 24, 24, 128)       0         \n",
      "_________________________________________________________________\n",
      "block2_conv2 (Conv2D)        (None, 24, 24, 128)       147584    \n",
      "_________________________________________________________________\n",
      "batch_normalization_4 (Batch (None, 24, 24, 128)       512       \n",
      "_________________________________________________________________\n",
      "block2_pool (MaxPooling2D)   (None, 12, 12, 128)       0         \n",
      "_________________________________________________________________\n",
      "dropout_6 (Dropout)          (None, 12, 12, 128)       0         \n",
      "_________________________________________________________________\n",
      "block3_conv1 (Conv2D)        (None, 12, 12, 256)       295168    \n",
      "_________________________________________________________________\n",
      "dropout_7 (Dropout)          (None, 12, 12, 256)       0         \n",
      "_________________________________________________________________\n",
      "batch_normalization_5 (Batch (None, 12, 12, 256)       1024      \n",
      "_________________________________________________________________\n",
      "block3_conv2 (Conv2D)        (None, 12, 12, 256)       590080    \n",
      "_________________________________________________________________\n",
      "dropout_8 (Dropout)          (None, 12, 12, 256)       0         \n",
      "_________________________________________________________________\n",
      "batch_normalization_6 (Batch (None, 12, 12, 256)       1024      \n",
      "_________________________________________________________________\n",
      "block3_conv3 (Conv2D)        (None, 12, 12, 256)       590080    \n",
      "_________________________________________________________________\n",
      "dropout_9 (Dropout)          (None, 12, 12, 256)       0         \n",
      "_________________________________________________________________\n",
      "batch_normalization_7 (Batch (None, 12, 12, 256)       1024      \n",
      "_________________________________________________________________\n",
      "block3_conv4 (Conv2D)        (None, 12, 12, 256)       590080    \n",
      "_________________________________________________________________\n",
      "dropout_10 (Dropout)         (None, 12, 12, 256)       0         \n",
      "_________________________________________________________________\n",
      "batch_normalization_8 (Batch (None, 12, 12, 256)       1024      \n",
      "_________________________________________________________________\n",
      "block3_pool (MaxPooling2D)   (None, 6, 6, 256)         0         \n",
      "_________________________________________________________________\n",
      "dropout_11 (Dropout)         (None, 6, 6, 256)         0         \n",
      "_________________________________________________________________\n",
      "block4_conv1 (Conv2D)        (None, 6, 6, 512)         1180160   \n",
      "_________________________________________________________________\n",
      "dropout_12 (Dropout)         (None, 6, 6, 512)         0         \n",
      "_________________________________________________________________\n",
      "batch_normalization_9 (Batch (None, 6, 6, 512)         2048      \n",
      "_________________________________________________________________\n",
      "block4_conv2 (Conv2D)        (None, 6, 6, 512)         2359808   \n",
      "_________________________________________________________________\n",
      "dropout_13 (Dropout)         (None, 6, 6, 512)         0         \n",
      "_________________________________________________________________\n",
      "batch_normalization_10 (Batc (None, 6, 6, 512)         2048      \n",
      "_________________________________________________________________\n",
      "block4_conv3 (Conv2D)        (None, 6, 6, 512)         2359808   \n",
      "_________________________________________________________________\n",
      "dropout_14 (Dropout)         (None, 6, 6, 512)         0         \n",
      "_________________________________________________________________\n",
      "batch_normalization_11 (Batc (None, 6, 6, 512)         2048      \n",
      "_________________________________________________________________\n",
      "block4_conv4 (Conv2D)        (None, 6, 6, 512)         2359808   \n",
      "_________________________________________________________________\n",
      "block4_pool (MaxPooling2D)   (None, 3, 3, 512)         0         \n",
      "_________________________________________________________________\n",
      "dropout_15 (Dropout)         (None, 3, 3, 512)         0         \n",
      "_________________________________________________________________\n",
      "block5_conv1 (Conv2D)        (None, 3, 3, 512)         2359808   \n",
      "_________________________________________________________________\n",
      "dropout_16 (Dropout)         (None, 3, 3, 512)         0         \n",
      "_________________________________________________________________\n",
      "batch_normalization_12 (Batc (None, 3, 3, 512)         2048      \n",
      "_________________________________________________________________\n",
      "block5_conv2 (Conv2D)        (None, 3, 3, 512)         2359808   \n",
      "_________________________________________________________________\n",
      "dropout_17 (Dropout)         (None, 3, 3, 512)         0         \n",
      "_________________________________________________________________\n",
      "batch_normalization_13 (Batc (None, 3, 3, 512)         2048      \n",
      "_________________________________________________________________\n",
      "block5_conv3 (Conv2D)        (None, 3, 3, 512)         2359808   \n",
      "_________________________________________________________________\n",
      "dropout_18 (Dropout)         (None, 3, 3, 512)         0         \n",
      "_________________________________________________________________\n",
      "batch_normalization_14 (Batc (None, 3, 3, 512)         2048      \n",
      "_________________________________________________________________\n",
      "block5_conv4 (Conv2D)        (None, 3, 3, 512)         2359808   \n",
      "_________________________________________________________________\n",
      "dropout_19 (Dropout)         (None, 3, 3, 512)         0         \n",
      "_________________________________________________________________\n",
      "batch_normalization_15 (Batc (None, 3, 3, 512)         2048      \n",
      "_________________________________________________________________\n",
      "block5_pool (MaxPooling2D)   (None, 1, 1, 512)         0         \n",
      "_________________________________________________________________\n",
      "dropout_20 (Dropout)         (None, 1, 1, 512)         0         \n",
      "_________________________________________________________________\n",
      "flatten (Flatten)            (None, 512)               0         \n",
      "_________________________________________________________________\n",
      "fc1 (Dense)                  (None, 4096)              2101248   \n",
      "_________________________________________________________________\n",
      "dropout_21 (Dropout)         (None, 4096)              0         \n",
      "_________________________________________________________________\n",
      "fc2 (Dense)                  (None, 4096)              16781312  \n",
      "_________________________________________________________________\n",
      "dropout_22 (Dropout)         (None, 4096)              0         \n",
      "_________________________________________________________________\n",
      "predictions (Dense)          (None, 7)                 28679     \n",
      "=================================================================\n",
      "Total params: 38,954,439\n",
      "Trainable params: 38,944,455\n",
      "Non-trainable params: 9,984\n",
      "_________________________________________________________________\n"
     ]
    }
   ],
   "source": [
    "model.summary()"
   ]
  },
  {
   "cell_type": "code",
   "execution_count": 25,
   "metadata": {},
   "outputs": [],
   "source": [
    "batch_size = 32\n",
    "epochs = 3"
   ]
  },
  {
   "cell_type": "markdown",
   "metadata": {},
   "source": [
    "### Training with augmented data. Augmentation takes place while training"
   ]
  },
  {
   "cell_type": "code",
   "execution_count": 28,
   "metadata": {
    "scrolled": true
   },
   "outputs": [
    {
     "name": "stdout",
     "output_type": "stream",
     "text": [
      "Train on 28709 samples, validate on 3589 samples\n",
      "Epoch 1/50\n",
      "28709/28709 [==============================] - 99s 3ms/step - loss: 0.7151 - categorical_accuracy: 0.7464 - val_loss: 1.0220 - val_categorical_accuracy: 0.6517\n",
      "Epoch 2/50\n",
      "28709/28709 [==============================] - 99s 3ms/step - loss: 0.7002 - categorical_accuracy: 0.7512 - val_loss: 0.9959 - val_categorical_accuracy: 0.6665\n",
      "Epoch 3/50\n",
      "28709/28709 [==============================] - 99s 3ms/step - loss: 0.7010 - categorical_accuracy: 0.7513 - val_loss: 0.9971 - val_categorical_accuracy: 0.6673\n",
      "Epoch 4/50\n",
      "28709/28709 [==============================] - 99s 3ms/step - loss: 0.6978 - categorical_accuracy: 0.7505 - val_loss: 0.9853 - val_categorical_accuracy: 0.6662\n",
      "Epoch 5/50\n",
      "28709/28709 [==============================] - 99s 3ms/step - loss: 0.6910 - categorical_accuracy: 0.7555 - val_loss: 1.0497 - val_categorical_accuracy: 0.6495\n",
      "Epoch 6/50\n",
      "28709/28709 [==============================] - 99s 3ms/step - loss: 0.6879 - categorical_accuracy: 0.7547 - val_loss: 0.9939 - val_categorical_accuracy: 0.6693\n",
      "Epoch 7/50\n",
      "28709/28709 [==============================] - 99s 3ms/step - loss: 0.6887 - categorical_accuracy: 0.7562 - val_loss: 0.9684 - val_categorical_accuracy: 0.6679\n",
      "Epoch 8/50\n",
      "28709/28709 [==============================] - 99s 3ms/step - loss: 0.6863 - categorical_accuracy: 0.7585 - val_loss: 1.0492 - val_categorical_accuracy: 0.6562\n",
      "Epoch 9/50\n",
      "28709/28709 [==============================] - 99s 3ms/step - loss: 0.6878 - categorical_accuracy: 0.7566 - val_loss: 1.0189 - val_categorical_accuracy: 0.6623\n",
      "Epoch 10/50\n",
      "28709/28709 [==============================] - 99s 3ms/step - loss: 0.6903 - categorical_accuracy: 0.7577 - val_loss: 1.0070 - val_categorical_accuracy: 0.6637\n",
      "Epoch 11/50\n",
      "28709/28709 [==============================] - 99s 3ms/step - loss: 0.6887 - categorical_accuracy: 0.7553 - val_loss: 1.0253 - val_categorical_accuracy: 0.6712\n",
      "Epoch 12/50\n",
      "28709/28709 [==============================] - 99s 3ms/step - loss: 0.6795 - categorical_accuracy: 0.7624 - val_loss: 0.9882 - val_categorical_accuracy: 0.6695\n",
      "Epoch 13/50\n",
      "28709/28709 [==============================] - 99s 3ms/step - loss: 0.6821 - categorical_accuracy: 0.7577 - val_loss: 1.0018 - val_categorical_accuracy: 0.6637\n",
      "Epoch 14/50\n",
      "28709/28709 [==============================] - 99s 3ms/step - loss: 0.6758 - categorical_accuracy: 0.7586 - val_loss: 1.0148 - val_categorical_accuracy: 0.6679\n",
      "Epoch 15/50\n",
      "28709/28709 [==============================] - 99s 3ms/step - loss: 0.6712 - categorical_accuracy: 0.7597 - val_loss: 1.0449 - val_categorical_accuracy: 0.6712\n",
      "Epoch 16/50\n",
      "28709/28709 [==============================] - 99s 3ms/step - loss: 0.6768 - categorical_accuracy: 0.7581 - val_loss: 1.0539 - val_categorical_accuracy: 0.6581\n",
      "Epoch 17/50\n",
      "28709/28709 [==============================] - 99s 3ms/step - loss: 0.6715 - categorical_accuracy: 0.7625 - val_loss: 1.0195 - val_categorical_accuracy: 0.6673\n",
      "Epoch 18/50\n",
      "28709/28709 [==============================] - 99s 3ms/step - loss: 0.6610 - categorical_accuracy: 0.7699 - val_loss: 1.0151 - val_categorical_accuracy: 0.6581\n",
      "Epoch 19/50\n",
      "28709/28709 [==============================] - 99s 3ms/step - loss: 0.6771 - categorical_accuracy: 0.7615 - val_loss: 1.0124 - val_categorical_accuracy: 0.6506\n",
      "Epoch 20/50\n",
      "28709/28709 [==============================] - 99s 3ms/step - loss: 0.6635 - categorical_accuracy: 0.7656 - val_loss: 1.0054 - val_categorical_accuracy: 0.6665\n",
      "Epoch 21/50\n",
      "28709/28709 [==============================] - 99s 3ms/step - loss: 0.6508 - categorical_accuracy: 0.7672 - val_loss: 1.0140 - val_categorical_accuracy: 0.6548\n",
      "Epoch 22/50\n",
      "28709/28709 [==============================] - 99s 3ms/step - loss: 0.6608 - categorical_accuracy: 0.7691 - val_loss: 1.0424 - val_categorical_accuracy: 0.6578\n",
      "Epoch 23/50\n",
      "28709/28709 [==============================] - 99s 3ms/step - loss: 0.6550 - categorical_accuracy: 0.7681 - val_loss: 1.0689 - val_categorical_accuracy: 0.6565\n",
      "Epoch 24/50\n",
      "28709/28709 [==============================] - 99s 3ms/step - loss: 0.6459 - categorical_accuracy: 0.7714 - val_loss: 1.0230 - val_categorical_accuracy: 0.6598\n",
      "Epoch 25/50\n",
      "28709/28709 [==============================] - 99s 3ms/step - loss: 0.6510 - categorical_accuracy: 0.7686 - val_loss: 1.0337 - val_categorical_accuracy: 0.6623\n",
      "Epoch 26/50\n",
      "28709/28709 [==============================] - 99s 3ms/step - loss: 0.6435 - categorical_accuracy: 0.7731 - val_loss: 1.0621 - val_categorical_accuracy: 0.6545\n",
      "Epoch 27/50\n",
      "28709/28709 [==============================] - 99s 3ms/step - loss: 0.6392 - categorical_accuracy: 0.7760 - val_loss: 1.0236 - val_categorical_accuracy: 0.6695\n",
      "Epoch 28/50\n",
      "28709/28709 [==============================] - 99s 3ms/step - loss: 0.6402 - categorical_accuracy: 0.7737 - val_loss: 0.9940 - val_categorical_accuracy: 0.6659\n",
      "Epoch 29/50\n",
      "28709/28709 [==============================] - 99s 3ms/step - loss: 0.6292 - categorical_accuracy: 0.7787 - val_loss: 1.0104 - val_categorical_accuracy: 0.6695\n",
      "Epoch 30/50\n",
      "28709/28709 [==============================] - 99s 3ms/step - loss: 0.6281 - categorical_accuracy: 0.7769 - val_loss: 1.0437 - val_categorical_accuracy: 0.6598\n",
      "Epoch 31/50\n",
      "28709/28709 [==============================] - 99s 3ms/step - loss: 0.6265 - categorical_accuracy: 0.7772 - val_loss: 1.0572 - val_categorical_accuracy: 0.6565\n",
      "Epoch 32/50\n",
      "28709/28709 [==============================] - 99s 3ms/step - loss: 0.6328 - categorical_accuracy: 0.7754 - val_loss: 1.0403 - val_categorical_accuracy: 0.6721\n",
      "Epoch 33/50\n",
      "28709/28709 [==============================] - 99s 3ms/step - loss: 0.6186 - categorical_accuracy: 0.7806 - val_loss: 1.0239 - val_categorical_accuracy: 0.6654\n",
      "Epoch 34/50\n",
      "28709/28709 [==============================] - 99s 3ms/step - loss: 0.6304 - categorical_accuracy: 0.7780 - val_loss: 1.0173 - val_categorical_accuracy: 0.6668\n",
      "Epoch 35/50\n",
      "28709/28709 [==============================] - 99s 3ms/step - loss: 0.6188 - categorical_accuracy: 0.7830 - val_loss: 1.0475 - val_categorical_accuracy: 0.6595\n",
      "Epoch 36/50\n",
      "28709/28709 [==============================] - 99s 3ms/step - loss: 0.6215 - categorical_accuracy: 0.7806 - val_loss: 1.0186 - val_categorical_accuracy: 0.6659\n",
      "Epoch 37/50\n",
      "28709/28709 [==============================] - 99s 3ms/step - loss: 0.6165 - categorical_accuracy: 0.7806 - val_loss: 1.0723 - val_categorical_accuracy: 0.6726\n",
      "Epoch 38/50\n",
      "28709/28709 [==============================] - 99s 3ms/step - loss: 0.6094 - categorical_accuracy: 0.7844 - val_loss: 1.0632 - val_categorical_accuracy: 0.6643\n",
      "Epoch 39/50\n",
      "28709/28709 [==============================] - 99s 3ms/step - loss: 0.6087 - categorical_accuracy: 0.7852 - val_loss: 1.0130 - val_categorical_accuracy: 0.6679\n",
      "Epoch 40/50\n",
      "28709/28709 [==============================] - 99s 3ms/step - loss: 0.6118 - categorical_accuracy: 0.7842 - val_loss: 1.0403 - val_categorical_accuracy: 0.6721\n",
      "Epoch 41/50\n",
      "28709/28709 [==============================] - 99s 3ms/step - loss: 0.6018 - categorical_accuracy: 0.7870 - val_loss: 1.0814 - val_categorical_accuracy: 0.6495\n",
      "Epoch 42/50\n",
      "28709/28709 [==============================] - 99s 3ms/step - loss: 0.6066 - categorical_accuracy: 0.7848 - val_loss: 1.0109 - val_categorical_accuracy: 0.6645\n",
      "Epoch 43/50\n",
      "28709/28709 [==============================] - 99s 3ms/step - loss: 0.6066 - categorical_accuracy: 0.7877 - val_loss: 1.0334 - val_categorical_accuracy: 0.6726\n",
      "Epoch 44/50\n",
      "28709/28709 [==============================] - 99s 3ms/step - loss: 0.5954 - categorical_accuracy: 0.7926 - val_loss: 1.0374 - val_categorical_accuracy: 0.6682\n",
      "Epoch 45/50\n",
      "28709/28709 [==============================] - 99s 3ms/step - loss: 0.6005 - categorical_accuracy: 0.7885 - val_loss: 0.9964 - val_categorical_accuracy: 0.6718\n",
      "Epoch 46/50\n",
      "28709/28709 [==============================] - 99s 3ms/step - loss: 0.5892 - categorical_accuracy: 0.7910 - val_loss: 1.0587 - val_categorical_accuracy: 0.6559\n",
      "Epoch 47/50\n",
      "28709/28709 [==============================] - 99s 3ms/step - loss: 0.5994 - categorical_accuracy: 0.7924 - val_loss: 1.0505 - val_categorical_accuracy: 0.6670\n",
      "Epoch 48/50\n",
      "28709/28709 [==============================] - 99s 3ms/step - loss: 0.5830 - categorical_accuracy: 0.7945 - val_loss: 1.0711 - val_categorical_accuracy: 0.6475\n",
      "Epoch 49/50\n",
      "28709/28709 [==============================] - 99s 3ms/step - loss: 0.5908 - categorical_accuracy: 0.7941 - val_loss: 1.0461 - val_categorical_accuracy: 0.6623\n",
      "Epoch 50/50\n",
      "28709/28709 [==============================] - 99s 3ms/step - loss: 0.5916 - categorical_accuracy: 0.7915 - val_loss: 1.0205 - val_categorical_accuracy: 0.6620\n"
     ]
    },
    {
     "data": {
      "text/plain": [
       "<keras.callbacks.History at 0x7f09ca4225c0>"
      ]
     },
     "execution_count": 28,
     "metadata": {},
     "output_type": "execute_result"
    }
   ],
   "source": [
    "from keras.preprocessing.image import ImageDataGenerator\n",
    "\n",
    "#Generate augmented data\n",
    "\n",
    "# datagen = ImageDataGenerator(\n",
    "#     featurewise_center=False,  # set input mean to 0 over the dataset\n",
    "#     samplewise_center=False,  # set each sample mean to 0\n",
    "#     featurewise_std_normalization=False,  # divide inputs by std of the dataset\n",
    "#     samplewise_std_normalization=False,  # divide each input by its std\n",
    "#     zca_whitening=False,  # apply ZCA whitening\n",
    "#     rotation_range=25,  # randomly rotate images in the range (degrees, 0 to 180)\n",
    "#     width_shift_range=0.2,  # randomly shift images horizontally (fraction of total width)\n",
    "#     height_shift_range=0.2,  # randomly shift images vertically (fraction of total height)\n",
    "#     horizontal_flip=True,  # randomly flip images\n",
    "#     vertical_flip=False)  # randomly flip images\n",
    "\n",
    "# valgen = ImageDataGenerator(\n",
    "#     featurewise_center=False,  # set input mean to 0 over the dataset\n",
    "#     samplewise_center=False,  # set each sample mean to 0\n",
    "#     featurewise_std_normalization=False,  # divide inputs by std of the dataset\n",
    "#     samplewise_std_normalization=False,  # divide each input by its std\n",
    "#     zca_whitening=False,  # apply ZCA whitening\n",
    "#     rotation_range=25,  # randomly rotate images in the range (degrees, 0 to 180)\n",
    "#     width_shift_range=0.2,  # randomly shift images horizontally (fraction of total width)\n",
    "#     height_shift_range=0.2,  # randomly shift images vertically (fraction of total height)\n",
    "#     horizontal_flip=True,  # randomly flip images\n",
    "#     vertical_flip=False) \n",
    "\n",
    "# datagen.fit(X_train_bw)\n",
    "# valgen.fit(X_val_bw)\n",
    "\n",
    "model.load_weights('vgg19-other.h5')\n",
    "\n",
    "model.fit(X_train_bw, y_train, batch_size=128, epochs=50, validation_data=(X_val_bw, y_val))\n",
    "\n",
    "#Note: Given training is done using best checkpoint saved after 200 epochs\n",
    "\n"
   ]
  },
  {
   "cell_type": "code",
   "execution_count": 30,
   "metadata": {},
   "outputs": [],
   "source": [
    "model.save_weights('vgg19-other.h5')"
   ]
  },
  {
   "cell_type": "code",
   "execution_count": 21,
   "metadata": {},
   "outputs": [],
   "source": [
    "model_json = model.to_json()"
   ]
  },
  {
   "cell_type": "code",
   "execution_count": 22,
   "metadata": {},
   "outputs": [],
   "source": [
    "with open(\"vgg19-other.json\", \"w\") as json_file:\n",
    "    json_file.write(model_json)"
   ]
  },
  {
   "cell_type": "code",
   "execution_count": null,
   "metadata": {},
   "outputs": [],
   "source": []
  },
  {
   "cell_type": "markdown",
   "metadata": {},
   "source": [
    "#### Data Augmentation"
   ]
  },
  {
   "cell_type": "code",
   "execution_count": 28,
   "metadata": {},
   "outputs": [],
   "source": [
    "#batch_size=32"
   ]
  },
  {
   "cell_type": "code",
   "execution_count": 32,
   "metadata": {},
   "outputs": [],
   "source": [
    "#from keras.preprocessing.image import ImageDataGenerator\n",
    "#from keras.preprocessing.image import array_to_img, img_to_array, load_img\n",
    "\n",
    "#gen = ImageDataGenerator(\n",
    "#    rotation_range=20,\n",
    "#    width_shift_range=0.2,\n",
    "#    height_shift_range=0.2,\n",
    "#    horizontal_flip=True\n",
    "#)\n",
    "\n",
    "#train_generator=gen.flow(x=X_train_r, \n",
    "#                         y=y_train, \n",
    "#                         batch_size=batch_size)"
   ]
  },
  {
   "cell_type": "code",
   "execution_count": 33,
   "metadata": {},
   "outputs": [],
   "source": [
    "#validation_generator=gen.flow(x=X_val_r, \n",
    "#                         y=y_val, \n",
    "#                         batch_size=batch_size)"
   ]
  },
  {
   "cell_type": "markdown",
   "metadata": {},
   "source": [
    "#### Iteration"
   ]
  },
  {
   "cell_type": "code",
   "execution_count": 28,
   "metadata": {},
   "outputs": [],
   "source": [
    "def read_model_from_disk(model: str, weights: str):\n",
    "    \n",
    "    json_file = open(model, 'r')\n",
    "    \n",
    "    loaded_model = json_file.read()\n",
    "    \n",
    "    model = model_from_json(loaded_model)\n",
    "    \n",
    "    model.load_weights(weights)\n",
    "    \n",
    "    model.compile(optimizer='adam', loss='categorical_crossentropy', metrics=[categorical_accuracy])\n",
    "    \n",
    "    return model"
   ]
  },
  {
   "cell_type": "code",
   "execution_count": 29,
   "metadata": {},
   "outputs": [],
   "source": [
    "model_saved = read_model_from_disk(model='../models/model_deep.json', weights='../models/weights/complex_20_cc_2.h5')"
   ]
  },
  {
   "cell_type": "markdown",
   "metadata": {},
   "source": [
    "### Evaluations"
   ]
  },
  {
   "cell_type": "code",
   "execution_count": 29,
   "metadata": {},
   "outputs": [
    {
     "name": "stdout",
     "output_type": "stream",
     "text": [
      "3589/3589 [==============================] - 5s 1ms/step\n"
     ]
    },
    {
     "data": {
      "text/plain": [
       "[0.997017162030173, 0.6753970465476747]"
      ]
     },
     "execution_count": 29,
     "metadata": {},
     "output_type": "execute_result"
    }
   ],
   "source": [
    "model.evaluate(X_test_bw, y = y_test, verbose=1)"
   ]
  },
  {
   "cell_type": "markdown",
   "metadata": {},
   "source": [
    "Our baseline model gave `63%` accuracy on test dataset. In the original competition leaderboard, it would be in top 10 submissions. We think, that it is absolutely possible to get even higher accuracy by training the model for larger number of epochs."
   ]
  },
  {
   "cell_type": "markdown",
   "metadata": {},
   "source": [
    "### Investigation"
   ]
  },
  {
   "cell_type": "code",
   "execution_count": 31,
   "metadata": {},
   "outputs": [],
   "source": [
    "from sklearn.metrics import confusion_matrix"
   ]
  },
  {
   "cell_type": "code",
   "execution_count": 32,
   "metadata": {},
   "outputs": [],
   "source": [
    "y = pd.DataFrame(np.argmax(y_test, axis = 1), columns=['true'])"
   ]
  },
  {
   "cell_type": "code",
   "execution_count": 35,
   "metadata": {},
   "outputs": [],
   "source": [
    "y['pred'] = model.predict_classes(X_test_bw)"
   ]
  },
  {
   "cell_type": "code",
   "execution_count": 37,
   "metadata": {},
   "outputs": [],
   "source": [
    "mapping = {\n",
    "    0: 'Angry', \n",
    "    1: 'Disgust', \n",
    "    2: 'Fear', \n",
    "    3: 'Happy', \n",
    "    4: 'Sad', \n",
    "    5: 'Surprise', \n",
    "    6: 'Neutral'   \n",
    "}\n",
    "\n",
    "y['true'] = y['true'].map(mapping)"
   ]
  },
  {
   "cell_type": "code",
   "execution_count": 38,
   "metadata": {},
   "outputs": [],
   "source": [
    "y['pred'] = y['pred'].map(mapping)"
   ]
  },
  {
   "cell_type": "code",
   "execution_count": 39,
   "metadata": {},
   "outputs": [],
   "source": [
    "import itertools\n",
    "\n",
    "def plot_confusion_matrix(cm, classes,\n",
    "                          normalize=False,\n",
    "                          title='Confusion matrix',\n",
    "                          cmap=plt.cm.Blues):\n",
    "    \"\"\"\n",
    "    This function prints and plots the confusion matrix.\n",
    "    Normalization can be applied by setting `normalize=True`.\n",
    "    \"\"\"\n",
    "    if normalize:\n",
    "        cm = cm.astype('float') / cm.sum(axis=1)[:, np.newaxis]\n",
    "\n",
    "    plt.imshow(cm, interpolation='nearest', cmap=cmap)\n",
    "    plt.title(title, fontdict = {'fontsize': 20})\n",
    "    plt.colorbar(fraction=0.046, pad=0.04)\n",
    "    tick_marks = np.arange(len(classes))\n",
    "    plt.xticks(tick_marks, classes, rotation=45)\n",
    "    plt.yticks(tick_marks, classes)\n",
    "\n",
    "    fmt = '.2f' if normalize else 'd'\n",
    "    thresh = cm.max() / 2.\n",
    "    for i, j in itertools.product(range(cm.shape[0]), range(cm.shape[1])):\n",
    "        plt.text(j, i, format(cm[i, j], fmt),\n",
    "                 horizontalalignment=\"center\",\n",
    "                 color=\"white\" if cm[i, j] > thresh else \"black\")\n",
    "\n",
    "    plt.ylabel('True label')\n",
    "    plt.xlabel('Predicted label')\n",
    "    plt.tight_layout()"
   ]
  },
  {
   "cell_type": "code",
   "execution_count": 40,
   "metadata": {},
   "outputs": [
    {
     "name": "stderr",
     "output_type": "stream",
     "text": [
      "/usr/local/envs/py3env/lib/python3.5/site-packages/matplotlib/font_manager.py:1320: UserWarning: findfont: Font family ['sans-serif'] not found. Falling back to DejaVu Sans\n",
      "  (prop.get_family(), self.defaultFamily[fontext]))\n"
     ]
    },
    {
     "data": {
      "image/png": "[encoded data removed]",
      "text/plain": [
       "<matplotlib.figure.Figure at 0x7f09ca3c8d68>"
      ]
     },
     "metadata": {},
     "output_type": "display_data"
    }
   ],
   "source": [
    "cnf_matrix = confusion_matrix(y['true'], y['pred'],\n",
    "                              labels=['Angry', 'Disgust', 'Fear', 'Happy', 'Sad', 'Surprise', 'Neutral'])\n",
    "\n",
    "np.set_printoptions(precision=2)\n",
    "\n",
    "\n",
    "plt.figure(figsize=(9, 9))\n",
    "plot_confusion_matrix(cnf_matrix, \n",
    "                      classes=['Angry', 'Disgust', 'Fear', 'Happy', 'Sad', 'Surprise', 'Neutral'],\n",
    "                      title='Confusion matrix, without normalization', cmap = 'Purples')"
   ]
  },
  {
   "cell_type": "code",
   "execution_count": 42,
   "metadata": {},
   "outputs": [
    {
     "name": "stderr",
     "output_type": "stream",
     "text": [
      "/usr/local/envs/py3env/lib/python3.5/site-packages/matplotlib/font_manager.py:1320: UserWarning: findfont: Font family ['sans-serif'] not found. Falling back to DejaVu Sans\n",
      "  (prop.get_family(), self.defaultFamily[fontext]))\n"
     ]
    },
    {
     "data": {
      "image/png": "[encoded data removed]",
      "text/plain": [
       "<matplotlib.figure.Figure at 0x7f0997f94198>"
      ]
     },
     "metadata": {},
     "output_type": "display_data"
    }
   ],
   "source": [
    "plt.figure(figsize=(9, 9))\n",
    "plot_confusion_matrix(cnf_matrix, \n",
    "                      classes=['Angry', 'Disgust', 'Fear', 'Happy', 'Sad', 'Surprise', 'Neutral'],\n",
    "                      normalize=True,\n",
    "                      title='', cmap = 'Purples')"
   ]
  }
 ],
 "metadata": {
  "kernelspec": {
   "display_name": "Python 3",
   "language": "python",
   "name": "python3"
  },
  "language_info": {
   "codemirror_mode": {
    "name": "ipython",
    "version": 3
   },
   "file_extension": ".py",
   "mimetype": "text/x-python",
   "name": "python",
   "nbconvert_exporter": "python",
   "pygments_lexer": "ipython3",
   "version": "3.6.7"
  }
 },
 "nbformat": 4,
 "nbformat_minor": 2
}
